{
 "cells": [
  {
   "cell_type": "code",
   "execution_count": 1,
   "metadata": {},
   "outputs": [],
   "source": [
    "from scipy import stats\n",
    "from sklearn.metrics import pairwise_distances\n",
    "import numpy as np \n",
    "import copy \n",
    "\n",
    "import os\n",
    "\n",
    "import matplotlib.pyplot as plt \n",
    "from jupyterthemes import jtplot\n",
    "jtplot.style(\"grade3\")"
   ]
  },
  {
   "cell_type": "code",
   "execution_count": 2,
   "metadata": {},
   "outputs": [],
   "source": [
    "def similarity(a, b):\n",
    "    l2 = pairwise_distances(a.reshape(1,-1), b.reshape(1,-1), metric=\"euclidean\")\n",
    "    cos = pairwise_distances(a.reshape(1,-1), b.reshape(1,-1), metric=\"cosine\")\n",
    "    \n",
    "    print(\"l2: %.3f, cos: %.3f\"%(l2, cos))"
   ]
  },
  {
   "cell_type": "code",
   "execution_count": 3,
   "metadata": {},
   "outputs": [],
   "source": [
    "PATH = './kstest/'\n",
    "gradients = []\n",
    "for _, _, files in os.walk(PATH):\n",
    "    for file in files:\n",
    "        gradients.append(np.loadtxt(PATH+file))"
   ]
  },
  {
   "cell_type": "code",
   "execution_count": 4,
   "metadata": {},
   "outputs": [
    {
     "name": "stdout",
     "output_type": "stream",
     "text": [
      "13.522045711328829\n"
     ]
    }
   ],
   "source": [
    "avg_ori = np.mean(gradients, axis=0)\n",
    "print(np.linalg.norm(avg_ori))"
   ]
  },
  {
   "cell_type": "code",
   "execution_count": 5,
   "metadata": {},
   "outputs": [],
   "source": [
    "l2_norms = []\n",
    "for i in range(10):\n",
    "    l2_norms.append(np.linalg.norm(gradients[i]))\n",
    "bound = np.median(l2_norms)"
   ]
  },
  {
   "cell_type": "code",
   "execution_count": 6,
   "metadata": {},
   "outputs": [
    {
     "name": "stdout",
     "output_type": "stream",
     "text": [
      "num_clipped:5\n"
     ]
    }
   ],
   "source": [
    "dp_gradients = copy.deepcopy(gradients)\n",
    "count = 0 \n",
    "for i in range(10):\n",
    "    if l2_norms[i] > bound:\n",
    "        dp_gradients[i] *= bound/l2_norms[i]\n",
    "        count += 1\n",
    "    dp_gradients[i] += np.random.normal(0, 1*bound, size=dp_gradients[i].shape)/10\n",
    "print(\"num_clipped:%d\"%count)"
   ]
  },
  {
   "cell_type": "code",
   "execution_count": 7,
   "metadata": {},
   "outputs": [
    {
     "name": "stdout",
     "output_type": "stream",
     "text": [
      "99.37383287460642\n",
      "l2: 98.438, cos: 0.863\n",
      "\n",
      "14.79427112051777\n",
      "l2: 18.626, cos: 0.863\n",
      "\n"
     ]
    }
   ],
   "source": [
    "avg_dp = np.mean(dp_gradients, axis=0)\n",
    "print(np.linalg.norm(avg_dp))\n",
    "similarity(avg_ori, avg_dp)\n",
    "print()\n",
    "\n",
    "if np.linalg.norm(avg_dp) > bound:\n",
    "    avg_post = bound/np.linalg.norm(avg_dp) * avg_dp\n",
    "print(np.linalg.norm(avg_post))\n",
    "similarity(avg_ori, avg_post)\n",
    "print()"
   ]
  },
  {
   "cell_type": "code",
   "execution_count": 8,
   "metadata": {},
   "outputs": [
    {
     "data": {
      "image/png": "[encoded data removed]",
      "text/plain": [
       "<Figure size 1440x720 with 1 Axes>"
      ]
     },
     "metadata": {},
     "output_type": "display_data"
    }
   ],
   "source": [
    "plt.figure(figsize=(20,10))\n",
    "plt.hist(avg_ori, bins=100, alpha=0.7, color=\"blue\")[2]\n",
    "plt.hist(avg_dp, bins=100, alpha=0.5, color=\"green\")[2]\n",
    "plt.hist(avg_post, bins=100, alpha=0.3, color=\"red\")[2]\n",
    "plt.show()"
   ]
  },
  {
   "cell_type": "code",
   "execution_count": null,
   "metadata": {},
   "outputs": [],
   "source": []
  }
 ],
 "metadata": {
  "kernelspec": {
   "display_name": "Python 3 (ipykernel)",
   "language": "python",
   "name": "python3"
  },
  "language_info": {
   "codemirror_mode": {
    "name": "ipython",
    "version": 3
   },
   "file_extension": ".py",
   "mimetype": "text/x-python",
   "name": "python",
   "nbconvert_exporter": "python",
   "pygments_lexer": "ipython3",
   "version": "3.8.10"
  },
  "toc": {
   "base_numbering": 1,
   "nav_menu": {},
   "number_sections": false,
   "sideBar": true,
   "skip_h1_title": true,
   "title_cell": "Table of Contents",
   "title_sidebar": "Contents",
   "toc_cell": false,
   "toc_position": {},
   "toc_section_display": true,
   "toc_window_display": false
  },
  "varInspector": {
   "cols": {
    "lenName": 16,
    "lenType": 16,
    "lenVar": 40
   },
   "kernels_config": {
    "python": {
     "delete_cmd_postfix": "",
     "delete_cmd_prefix": "del ",
     "library": "var_list.py",
     "varRefreshCmd": "print(var_dic_list())"
    },
    "r": {
     "delete_cmd_postfix": ") ",
     "delete_cmd_prefix": "rm(",
     "library": "var_list.r",
     "varRefreshCmd": "cat(var_dic_list()) "
    }
   },
   "types_to_exclude": [
    "module",
    "function",
    "builtin_function_or_method",
    "instance",
    "_Feature"
   ],
   "window_display": false
  }
 },
 "nbformat": 4,
 "nbformat_minor": 4
}
