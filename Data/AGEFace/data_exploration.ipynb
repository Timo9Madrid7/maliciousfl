{
 "cells": [
  {
   "cell_type": "code",
   "execution_count": 1,
   "metadata": {},
   "outputs": [],
   "source": [
    "import pandas as pd \n",
    "import numpy as np \n",
    "import matplotlib.pyplot as plt\n",
    "\n",
    "from sklearn.model_selection import train_test_split\n",
    "\n",
    "from torch import nn \n",
    "from torch.utils.data import TensorDataset, DataLoader\n",
    "from torchsummary import summary\n",
    "import torch\n",
    "\n",
    "from tqdm import tqdm\n",
    "\n",
    "from jupyterthemes import jtplot\n",
    "jtplot.style(\"grade3\")"
   ]
  },
  {
   "cell_type": "markdown",
   "metadata": {},
   "source": [
    "# Load Data"
   ]
  },
  {
   "cell_type": "code",
   "execution_count": 2,
   "metadata": {},
   "outputs": [
    {
     "data": {
      "text/html": [
       "<div>\n",
       "<style scoped>\n",
       "    .dataframe tbody tr th:only-of-type {\n",
       "        vertical-align: middle;\n",
       "    }\n",
       "\n",
       "    .dataframe tbody tr th {\n",
       "        vertical-align: top;\n",
       "    }\n",
       "\n",
       "    .dataframe thead th {\n",
       "        text-align: right;\n",
       "    }\n",
       "</style>\n",
       "<table border=\"1\" class=\"dataframe\">\n",
       "  <thead>\n",
       "    <tr style=\"text-align: right;\">\n",
       "      <th></th>\n",
       "      <th>age</th>\n",
       "      <th>ethnicity</th>\n",
       "      <th>gender</th>\n",
       "      <th>img_name</th>\n",
       "      <th>pixels</th>\n",
       "    </tr>\n",
       "  </thead>\n",
       "  <tbody>\n",
       "    <tr>\n",
       "      <th>0</th>\n",
       "      <td>1</td>\n",
       "      <td>2</td>\n",
       "      <td>0</td>\n",
       "      <td>20161219203650636.jpg.chip.jpg</td>\n",
       "      <td>129 128 128 126 127 130 133 135 139 142 145 14...</td>\n",
       "    </tr>\n",
       "    <tr>\n",
       "      <th>1</th>\n",
       "      <td>1</td>\n",
       "      <td>2</td>\n",
       "      <td>0</td>\n",
       "      <td>20161219222752047.jpg.chip.jpg</td>\n",
       "      <td>164 74 111 168 169 171 175 182 184 188 193 199...</td>\n",
       "    </tr>\n",
       "    <tr>\n",
       "      <th>2</th>\n",
       "      <td>1</td>\n",
       "      <td>2</td>\n",
       "      <td>0</td>\n",
       "      <td>20161219222832191.jpg.chip.jpg</td>\n",
       "      <td>67 70 71 70 69 67 70 79 90 103 116 132 145 155...</td>\n",
       "    </tr>\n",
       "    <tr>\n",
       "      <th>3</th>\n",
       "      <td>1</td>\n",
       "      <td>2</td>\n",
       "      <td>0</td>\n",
       "      <td>20161220144911423.jpg.chip.jpg</td>\n",
       "      <td>193 197 198 200 199 200 202 203 204 205 208 21...</td>\n",
       "    </tr>\n",
       "    <tr>\n",
       "      <th>4</th>\n",
       "      <td>1</td>\n",
       "      <td>2</td>\n",
       "      <td>0</td>\n",
       "      <td>20161220144914327.jpg.chip.jpg</td>\n",
       "      <td>202 205 209 210 209 209 210 211 212 214 218 21...</td>\n",
       "    </tr>\n",
       "  </tbody>\n",
       "</table>\n",
       "</div>"
      ],
      "text/plain": [
       "   age  ethnicity  gender                        img_name  \\\n",
       "0    1          2       0  20161219203650636.jpg.chip.jpg   \n",
       "1    1          2       0  20161219222752047.jpg.chip.jpg   \n",
       "2    1          2       0  20161219222832191.jpg.chip.jpg   \n",
       "3    1          2       0  20161220144911423.jpg.chip.jpg   \n",
       "4    1          2       0  20161220144914327.jpg.chip.jpg   \n",
       "\n",
       "                                              pixels  \n",
       "0  129 128 128 126 127 130 133 135 139 142 145 14...  \n",
       "1  164 74 111 168 169 171 175 182 184 188 193 199...  \n",
       "2  67 70 71 70 69 67 70 79 90 103 116 132 145 155...  \n",
       "3  193 197 198 200 199 200 202 203 204 205 208 21...  \n",
       "4  202 205 209 210 209 209 210 211 212 214 218 21...  "
      ]
     },
     "execution_count": 2,
     "metadata": {},
     "output_type": "execute_result"
    }
   ],
   "source": [
    "raw = pd.read_csv('./age_gender.csv')\n",
    "raw.head()"
   ]
  },
  {
   "cell_type": "markdown",
   "metadata": {},
   "source": [
    "# Visualization"
   ]
  },
  {
   "cell_type": "code",
   "execution_count": 3,
   "metadata": {},
   "outputs": [
    {
     "data": {
      "image/png": "[encoded data removed]",
      "text/plain": [
       "<Figure size 1512x648 with 3 Axes>"
      ]
     },
     "metadata": {},
     "output_type": "display_data"
    }
   ],
   "source": [
    "fig, axs = plt.subplots(1,3, figsize=(21,9))\n",
    "raw.hist('age', ax=axs[0])\n",
    "raw.hist('ethnicity', ax=axs[1])\n",
    "raw.hist('gender', ax=axs[2])\n",
    "plt.show()"
   ]
  },
  {
   "cell_type": "markdown",
   "metadata": {},
   "source": [
    "# PreProcessing"
   ]
  },
  {
   "cell_type": "code",
   "execution_count": 4,
   "metadata": {},
   "outputs": [],
   "source": [
    "# convert to images\n",
    "def str_to_2Dnumpy(x: str):\n",
    "    return np.array(list(map(int, x.split(' ')))).reshape(48, 48)\n",
    "raw['pixels'] = raw['pixels'].apply(str_to_2Dnumpy)"
   ]
  },
  {
   "cell_type": "code",
   "execution_count": 5,
   "metadata": {},
   "outputs": [
    {
     "data": {
      "text/html": [
       "<div>\n",
       "<style scoped>\n",
       "    .dataframe tbody tr th:only-of-type {\n",
       "        vertical-align: middle;\n",
       "    }\n",
       "\n",
       "    .dataframe tbody tr th {\n",
       "        vertical-align: top;\n",
       "    }\n",
       "\n",
       "    .dataframe thead th {\n",
       "        text-align: right;\n",
       "    }\n",
       "</style>\n",
       "<table border=\"1\" class=\"dataframe\">\n",
       "  <thead>\n",
       "    <tr style=\"text-align: right;\">\n",
       "      <th></th>\n",
       "      <th>age</th>\n",
       "      <th>ethnicity</th>\n",
       "      <th>gender</th>\n",
       "      <th>pixels</th>\n",
       "    </tr>\n",
       "  </thead>\n",
       "  <tbody>\n",
       "    <tr>\n",
       "      <th>0</th>\n",
       "      <td>1</td>\n",
       "      <td>2</td>\n",
       "      <td>0</td>\n",
       "      <td>[[129, 128, 128, 126, 127, 130, 133, 135, 139,...</td>\n",
       "    </tr>\n",
       "    <tr>\n",
       "      <th>1</th>\n",
       "      <td>1</td>\n",
       "      <td>2</td>\n",
       "      <td>0</td>\n",
       "      <td>[[164, 74, 111, 168, 169, 171, 175, 182, 184, ...</td>\n",
       "    </tr>\n",
       "    <tr>\n",
       "      <th>2</th>\n",
       "      <td>1</td>\n",
       "      <td>2</td>\n",
       "      <td>0</td>\n",
       "      <td>[[67, 70, 71, 70, 69, 67, 70, 79, 90, 103, 116...</td>\n",
       "    </tr>\n",
       "    <tr>\n",
       "      <th>3</th>\n",
       "      <td>1</td>\n",
       "      <td>2</td>\n",
       "      <td>0</td>\n",
       "      <td>[[193, 197, 198, 200, 199, 200, 202, 203, 204,...</td>\n",
       "    </tr>\n",
       "    <tr>\n",
       "      <th>4</th>\n",
       "      <td>1</td>\n",
       "      <td>2</td>\n",
       "      <td>0</td>\n",
       "      <td>[[202, 205, 209, 210, 209, 209, 210, 211, 212,...</td>\n",
       "    </tr>\n",
       "  </tbody>\n",
       "</table>\n",
       "</div>"
      ],
      "text/plain": [
       "   age  ethnicity  gender                                             pixels\n",
       "0    1          2       0  [[129, 128, 128, 126, 127, 130, 133, 135, 139,...\n",
       "1    1          2       0  [[164, 74, 111, 168, 169, 171, 175, 182, 184, ...\n",
       "2    1          2       0  [[67, 70, 71, 70, 69, 67, 70, 79, 90, 103, 116...\n",
       "3    1          2       0  [[193, 197, 198, 200, 199, 200, 202, 203, 204,...\n",
       "4    1          2       0  [[202, 205, 209, 210, 209, 209, 210, 211, 212,..."
      ]
     },
     "execution_count": 5,
     "metadata": {},
     "output_type": "execute_result"
    }
   ],
   "source": [
    "# drop the useless column\n",
    "raw = raw.drop(columns='img_name')\n",
    "raw.head()"
   ]
  },
  {
   "cell_type": "markdown",
   "metadata": {},
   "source": [
    "# Test Model Ability"
   ]
  },
  {
   "cell_type": "code",
   "execution_count": 6,
   "metadata": {},
   "outputs": [],
   "source": [
    "class Model(nn.Module):\n",
    "    def __init__(self):\n",
    "        super(Model,self).__init__()\n",
    "        self.conv = nn.Sequential(\n",
    "            nn.Conv2d(1, 32, 3),\n",
    "            nn.BatchNorm2d(32),\n",
    "            nn.ReLU(),\n",
    "            nn.MaxPool2d(2, 2),\n",
    "            nn.Conv2d(32, 64, 3),\n",
    "            nn.ReLU(),\n",
    "            nn.MaxPool2d(2, 2)\n",
    "        )\n",
    "\n",
    "        self.fc = nn.Sequential(\n",
    "            nn.Linear(64*10*10, 64),\n",
    "            nn.ReLU(),\n",
    "            nn.Linear(64, 1),\n",
    "            nn.Sigmoid()\n",
    "        )\n",
    "\n",
    "    def forward(self, img):\n",
    "        feature = self.conv(img)\n",
    "        output = self.fc(feature.view(img.shape[0], -1))\n",
    "\n",
    "        return output\n",
    "    \n",
    "def normalization(data, mean, std):\n",
    "    return (data - mean) / std"
   ]
  },
  {
   "cell_type": "code",
   "execution_count": 7,
   "metadata": {
    "scrolled": true
   },
   "outputs": [
    {
     "name": "stdout",
     "output_type": "stream",
     "text": [
      "==========================================================================================\n",
      "Layer (type:depth-idx)                   Output Shape              Param #\n",
      "==========================================================================================\n",
      "├─Sequential: 1-1                        [-1, 64, 10, 10]          --\n",
      "|    └─Conv2d: 2-1                       [-1, 32, 46, 46]          320\n",
      "|    └─BatchNorm2d: 2-2                  [-1, 32, 46, 46]          64\n",
      "|    └─ReLU: 2-3                         [-1, 32, 46, 46]          --\n",
      "|    └─MaxPool2d: 2-4                    [-1, 32, 23, 23]          --\n",
      "|    └─Conv2d: 2-5                       [-1, 64, 21, 21]          18,496\n",
      "|    └─ReLU: 2-6                         [-1, 64, 21, 21]          --\n",
      "|    └─MaxPool2d: 2-7                    [-1, 64, 10, 10]          --\n",
      "├─Sequential: 1-2                        [-1, 1]                   --\n",
      "|    └─Linear: 2-8                       [-1, 64]                  409,664\n",
      "|    └─ReLU: 2-9                         [-1, 64]                  --\n",
      "|    └─Linear: 2-10                      [-1, 1]                   65\n",
      "|    └─Sigmoid: 2-11                     [-1, 1]                   --\n",
      "==========================================================================================\n",
      "Total params: 428,609\n",
      "Trainable params: 428,609\n",
      "Non-trainable params: 0\n",
      "Total mult-adds (M): 9.58\n",
      "==========================================================================================\n",
      "Input size (MB): 0.01\n",
      "Forward/backward pass size (MB): 1.25\n",
      "Params size (MB): 1.64\n",
      "Estimated Total Size (MB): 2.89\n",
      "==========================================================================================\n"
     ]
    },
    {
     "data": {
      "text/plain": [
       "==========================================================================================\n",
       "Layer (type:depth-idx)                   Output Shape              Param #\n",
       "==========================================================================================\n",
       "├─Sequential: 1-1                        [-1, 64, 10, 10]          --\n",
       "|    └─Conv2d: 2-1                       [-1, 32, 46, 46]          320\n",
       "|    └─BatchNorm2d: 2-2                  [-1, 32, 46, 46]          64\n",
       "|    └─ReLU: 2-3                         [-1, 32, 46, 46]          --\n",
       "|    └─MaxPool2d: 2-4                    [-1, 32, 23, 23]          --\n",
       "|    └─Conv2d: 2-5                       [-1, 64, 21, 21]          18,496\n",
       "|    └─ReLU: 2-6                         [-1, 64, 21, 21]          --\n",
       "|    └─MaxPool2d: 2-7                    [-1, 64, 10, 10]          --\n",
       "├─Sequential: 1-2                        [-1, 1]                   --\n",
       "|    └─Linear: 2-8                       [-1, 64]                  409,664\n",
       "|    └─ReLU: 2-9                         [-1, 64]                  --\n",
       "|    └─Linear: 2-10                      [-1, 1]                   65\n",
       "|    └─Sigmoid: 2-11                     [-1, 1]                   --\n",
       "==========================================================================================\n",
       "Total params: 428,609\n",
       "Trainable params: 428,609\n",
       "Non-trainable params: 0\n",
       "Total mult-adds (M): 9.58\n",
       "==========================================================================================\n",
       "Input size (MB): 0.01\n",
       "Forward/backward pass size (MB): 1.25\n",
       "Params size (MB): 1.64\n",
       "Estimated Total Size (MB): 2.89\n",
       "=========================================================================================="
      ]
     },
     "execution_count": 7,
     "metadata": {},
     "output_type": "execute_result"
    }
   ],
   "source": [
    "summary(Model().cuda(), (1,48,48))"
   ]
  },
  {
   "cell_type": "code",
   "execution_count": 8,
   "metadata": {},
   "outputs": [],
   "source": [
    "device = torch.device('cuda')\n",
    "X_train, X_test, y_train, y_test = train_test_split(np.array(raw['pixels'].values.tolist()).astype(np.float64), raw['gender'].values, test_size=0.3, shuffle=True)\n",
    "\n",
    "# mean, std = X_train.mean(axis=0), X_train.std(axis=0)\n",
    "# X_train = normalization(X_train, mean, std)\n",
    "# X_test = normalization(X_test, mean, std)"
   ]
  },
  {
   "cell_type": "code",
   "execution_count": 9,
   "metadata": {},
   "outputs": [],
   "source": [
    "train_x, train_y = torch.from_numpy(X_train.reshape(-1,1,48,48)).float(), torch.from_numpy(y_train)\n",
    "test_x, test_y = torch.from_numpy(X_test.reshape(-1,1,48,48)).float(), torch.from_numpy(y_test)\n",
    "\n",
    "train_data = TensorDataset(train_x, train_y)\n",
    "test_data = TensorDataset(test_x, test_y)\n",
    "\n",
    "train_loader = DataLoader(dataset=train_data, shuffle=True, batch_size=32)\n",
    "test_loader = DataLoader(dataset=test_data, shuffle=True, batch_size=32)"
   ]
  },
  {
   "cell_type": "code",
   "execution_count": 10,
   "metadata": {},
   "outputs": [],
   "source": [
    "net = Model().to(device)\n",
    "loss_function = torch.nn.BCELoss()\n",
    "optimizer = torch.optim.SGD(\n",
    "    net.parameters(),\n",
    "    lr = 0.01\n",
    ")"
   ]
  },
  {
   "cell_type": "code",
   "execution_count": 11,
   "metadata": {},
   "outputs": [
    {
     "name": "stderr",
     "output_type": "stream",
     "text": [
      "100%|██████████████████████████████████████████████████████████████████████████████████| 20/20 [00:43<00:00,  2.16s/it]\n"
     ]
    }
   ],
   "source": [
    "test_acc_record = []\n",
    "train_acc_record = []\n",
    "train_count, test_count = 0, 0\n",
    "train_acc, test_acc = 0, 0\n",
    "\n",
    "for epoch in tqdm(range(0,20)):\n",
    "    net.train()\n",
    "    for x, y in train_loader:\n",
    "        x = x.to(device)\n",
    "        y = y.to(device)\n",
    "        \n",
    "        y_hat = net(x)\n",
    "        loss = loss_function(y_hat.view(-1), y.to(torch.float))\n",
    "        train_acc += torch.round(y_hat).view(-1).eq(y).cpu().sum().item()\n",
    "        train_count += len(y)\n",
    "        optimizer.zero_grad()\n",
    "        loss.backward()\n",
    "        optimizer.step()\n",
    "    \n",
    "    train_acc_record.append(train_acc/train_count)\n",
    "#     print(\"training accuracy:\", np.round(train_acc_record[-1],4)*100,\"%\")\n",
    "    train_acc = 0\n",
    "    train_count = 0\n",
    "    \n",
    "    net.eval()\n",
    "    for x, y in test_loader:\n",
    "        x, y = x.to(device), y.to(device)\n",
    "        y_hat = torch.round(net(x))\n",
    "        test_acc += y_hat.view(-1).eq(y).cpu().sum().item()\n",
    "        test_count += len(y)\n",
    "    test_acc_record.append(test_acc/test_count)\n",
    "#     print(\">> testing accuracy:\", np.round(test_acc_record[-1],4)*100,\"%\")\n",
    "    test_acc = 0\n",
    "    test_count = 0"
   ]
  },
  {
   "cell_type": "markdown",
   "metadata": {},
   "source": [
    "# Learning Curve"
   ]
  },
  {
   "cell_type": "code",
   "execution_count": 12,
   "metadata": {},
   "outputs": [
    {
     "data": {
      "image/png": "[encoded data removed]",
      "text/plain": [
       "<Figure size 1080x648 with 1 Axes>"
      ]
     },
     "metadata": {},
     "output_type": "display_data"
    }
   ],
   "source": [
    "plt.figure(figsize=(15,9))\n",
    "plt.plot(np.arange(len(train_acc_record)), train_acc_record, 'r-*')\n",
    "plt.plot(np.arange(len(test_acc_record)), test_acc_record, 'b-*')\n",
    "plt.legend(['train_acc', 'test_acc'])\n",
    "plt.xlabel('epoch')\n",
    "plt.ylabel('accuracy[%]')\n",
    "plt.show()"
   ]
  },
  {
   "cell_type": "code",
   "execution_count": null,
   "metadata": {},
   "outputs": [],
   "source": []
  }
 ],
 "metadata": {
  "kernelspec": {
   "display_name": "Python 3 (ipykernel)",
   "language": "python",
   "name": "python3"
  },
  "language_info": {
   "codemirror_mode": {
    "name": "ipython",
    "version": 3
   },
   "file_extension": ".py",
   "mimetype": "text/x-python",
   "name": "python",
   "nbconvert_exporter": "python",
   "pygments_lexer": "ipython3",
   "version": "3.8.10"
  },
  "toc": {
   "base_numbering": 1,
   "nav_menu": {},
   "number_sections": true,
   "sideBar": true,
   "skip_h1_title": false,
   "title_cell": "Table of Contents",
   "title_sidebar": "Contents",
   "toc_cell": false,
   "toc_position": {},
   "toc_section_display": true,
   "toc_window_display": false
  },
  "varInspector": {
   "cols": {
    "lenName": 16,
    "lenType": 16,
    "lenVar": 40
   },
   "kernels_config": {
    "python": {
     "delete_cmd_postfix": "",
     "delete_cmd_prefix": "del ",
     "library": "var_list.py",
     "varRefreshCmd": "print(var_dic_list())"
    },
    "r": {
     "delete_cmd_postfix": ") ",
     "delete_cmd_prefix": "rm(",
     "library": "var_list.r",
     "varRefreshCmd": "cat(var_dic_list()) "
    }
   },
   "types_to_exclude": [
    "module",
    "function",
    "builtin_function_or_method",
    "instance",
    "_Feature"
   ],
   "window_display": false
  }
 },
 "nbformat": 4,
 "nbformat_minor": 4
}
