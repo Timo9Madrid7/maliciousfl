{
 "cells": [
  {
   "cell_type": "code",
   "execution_count": 1,
   "metadata": {},
   "outputs": [],
   "source": [
    "import grpc\n",
    "import time \n",
    "import numpy as np\n",
    "from Common.Grpc.fl_grpc_pb2_grpc import FL_GrpcServicer, add_FL_GrpcServicer_to_server\n",
    "from Common.Grpc.fl_grpc_pb2 import GradResponse_float\n",
    "from Common.Grpc.fl_grpc_pb2 import GradResponse_int32\n",
    "from concurrent import futures\n",
    "import Common.config as config "
   ]
  },
  {
   "cell_type": "code",
   "execution_count": 2,
   "metadata": {},
   "outputs": [],
   "source": [
    "class FL_Server(FL_GrpcServicer):\n",
    "    def __init__(self):\n",
    "        super(FL_Server, self).__init__()\n",
    "    \n",
    "    def UpdateGrad_float(self, request, context):\n",
    "        print(\"UpdateGrad_float\")\n",
    "        print(type(request.id), request.id)\n",
    "        print(type(request.grad_ori), request.grad_ori)\n",
    "        \n",
    "        response = (np.array(request.grad_ori)*2).tolist()\n",
    "        return GradResponse_float(grad_upd = response)\n",
    "    \n",
    "    def UpdateGrad_int32(self, request, context):\n",
    "        print(\"Update_int32\")\n",
    "        print(type(request.id), request.id)\n",
    "        print(type(request.grad_ori), request.grad_ori)\n",
    "        \n",
    "        response = (np.array(request.grad_ori)*3).tolist()\n",
    "        return GradResponse_int32(grad_upd = response)\n",
    "    \n",
    "    def start(self):\n",
    "        server = grpc.server(futures.ThreadPoolExecutor(max_workers=10))\n",
    "        add_FL_GrpcServicer_to_server(self, server)\n",
    "        address_port = config.server1_address + \":\" + str(config.port1)\n",
    "        server.add_insecure_port(address_port)\n",
    "        server.start()\n",
    "        \n",
    "        try:\n",
    "            while True:\n",
    "                time.sleep(60 * 60 * 24)\n",
    "        except KeyboardInterrupt:\n",
    "                server.stop(0)"
   ]
  },
  {
   "cell_type": "code",
   "execution_count": null,
   "metadata": {},
   "outputs": [
    {
     "name": "stdout",
     "output_type": "stream",
     "text": [
      "UpdateGrad_float\n",
      "<class 'int'> 1\n",
      "<class 'google.protobuf.internal.containers.RepeatedScalarFieldContainer'> [1.0, 2.0, 3.0]\n",
      "UpdateGrad_float\n",
      "<class 'int'> 1\n",
      "<class 'google.protobuf.internal.containers.RepeatedScalarFieldContainer'> [1.0, 2.0, 3.0]\n",
      "UpdateGrad_float\n",
      "<class 'int'> 1\n",
      "<class 'google.protobuf.internal.containers.RepeatedScalarFieldContainer'> [1.0, 2.0, 3.0]\n",
      "Update_int32\n",
      "<class 'int'> 1\n",
      "<class 'google.protobuf.internal.containers.RepeatedScalarFieldContainer'> [4, 5, 6]\n"
     ]
    }
   ],
   "source": [
    "clear_sever = FL_Server()\n",
    "clear_sever.start()"
   ]
  },
  {
   "cell_type": "code",
   "execution_count": null,
   "metadata": {},
   "outputs": [],
   "source": []
  }
 ],
 "metadata": {
  "kernelspec": {
   "display_name": "Python 3 (ipykernel)",
   "language": "python",
   "name": "python3"
  },
  "language_info": {
   "codemirror_mode": {
    "name": "ipython",
    "version": 3
   },
   "file_extension": ".py",
   "mimetype": "text/x-python",
   "name": "python",
   "nbconvert_exporter": "python",
   "pygments_lexer": "ipython3",
   "version": "3.8.10"
  },
  "toc": {
   "base_numbering": 1,
   "nav_menu": {},
   "number_sections": true,
   "sideBar": true,
   "skip_h1_title": false,
   "title_cell": "Table of Contents",
   "title_sidebar": "Contents",
   "toc_cell": false,
   "toc_position": {},
   "toc_section_display": true,
   "toc_window_display": false
  },
  "varInspector": {
   "cols": {
    "lenName": 16,
    "lenType": 16,
    "lenVar": 40
   },
   "kernels_config": {
    "python": {
     "delete_cmd_postfix": "",
     "delete_cmd_prefix": "del ",
     "library": "var_list.py",
     "varRefreshCmd": "print(var_dic_list())"
    },
    "r": {
     "delete_cmd_postfix": ") ",
     "delete_cmd_prefix": "rm(",
     "library": "var_list.r",
     "varRefreshCmd": "cat(var_dic_list()) "
    }
   },
   "types_to_exclude": [
    "module",
    "function",
    "builtin_function_or_method",
    "instance",
    "_Feature"
   ],
   "window_display": false
  }
 },
 "nbformat": 4,
 "nbformat_minor": 4
}
